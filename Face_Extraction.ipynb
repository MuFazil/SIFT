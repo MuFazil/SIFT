{
 "cells": [
  {
   "cell_type": "markdown",
   "metadata": {},
   "source": [
    "### Code to extract faces from images\n"
   ]
  },
  {
   "cell_type": "code",
   "execution_count": 1,
   "metadata": {},
   "outputs": [],
   "source": [
    "import cv2 \n",
    "import matplotlib.pyplot as plt\n",
    "import os\n",
    "import numpy as np\n",
    "\n",
    "haar_cascade = cv2.CascadeClassifier('haarcascade_frontalface_default.xml')"
   ]
  },
  {
   "cell_type": "code",
   "execution_count": 2,
   "metadata": {},
   "outputs": [],
   "source": [
    "def load_images_from_folder(folder):\n",
    "    images = []\n",
    "    for file_name in os.listdir(folder):\n",
    "        img = cv2.imread(os.path.join(folder, file_name))\n",
    "        if img is not None:\n",
    "            images.append(img)\n",
    "    return images"
   ]
  },
  {
   "cell_type": "code",
   "execution_count": 3,
   "metadata": {},
   "outputs": [],
   "source": [
    "def face_detect(folder):\n",
    "    images = load_images_from_folder(folder)\n",
    "    print(len(images))\n",
    "    img_values = []\n",
    "    for img in images:\n",
    "        faces_rect = haar_cascade.detectMultiScale(img, scaleFactor=1.1, minNeighbors=9) \n",
    "        img_values.append(faces_rect)\n",
    "\n",
    "    img_faces = []\n",
    "    for i in range(len(images)):\n",
    "        img = images[i]\n",
    "        faces_rect = img_values[i]\n",
    "        for (x, y, w, h) in faces_rect: \n",
    "            cv2.rectangle(img, (x, y), (x+w, y+h), (0, 255, 0), thickness=2)\n",
    "            img_g = cv2.cvtColor(img[y : y+h, x: x+w], cv2.COLOR_BGR2GRAY)\n",
    "            img_faces.append(img_g)\n",
    "    \n",
    "    return img_faces"
   ]
  },
  {
   "cell_type": "code",
   "execution_count": 4,
   "metadata": {},
   "outputs": [
    {
     "name": "stdout",
     "output_type": "stream",
     "text": [
      "1\n",
      "1\n"
     ]
    }
   ],
   "source": [
    "class_label = ['fazil']\n",
    "class_faces = {}\n",
    "\n",
    "# directory path \n",
    "directory_path = rf\"D:\\SIFT\"\n",
    "os.chdir(directory_path)\n",
    "\n",
    "for i in class_label:\n",
    "    class_faces[i] = face_detect(i)\n",
    "\n",
    "for i in class_label:\n",
    "    count = 1\n",
    "    # class_desc[i] = desc_func(i)\n",
    "    images = load_images_from_folder(i)\n",
    "    print(len(images))\n",
    "    img_values = []\n",
    "    for img in images:\n",
    "        faces_rect = haar_cascade.detectMultiScale(img, scaleFactor=1.1, minNeighbors=9) \n",
    "        img_values.append(faces_rect)\n",
    "\n",
    "    img_faces = []\n",
    "    for i in range(len(images)):\n",
    "        img = images[i]\n",
    "        faces_rect = img_values[i]\n",
    "        for (x, y, w, h) in faces_rect: \n",
    "            cv2.rectangle(img, (x, y), (x+w, y+h), (0, 255, 0), thickness=2)\n",
    "            img_g = cv2.cvtColor(img[y : y+h, x: x+w], cv2.COLOR_BGR2GRAY)\n",
    "            img_faces.append(img_g)\n",
    "\n",
    "   \n",
    "    count = 1\n",
    "    for img in img_faces:\n",
    "        filename = f'fazil{count}.jpg'\n",
    "        count += 1\n",
    "        cv2.imwrite(filename, img)\n",
    "\n"
   ]
  }
 ],
 "metadata": {
  "kernelspec": {
   "display_name": "Python 3 (ipykernel)",
   "language": "python",
   "name": "python3"
  },
  "language_info": {
   "codemirror_mode": {
    "name": "ipython",
    "version": 3
   },
   "file_extension": ".py",
   "mimetype": "text/x-python",
   "name": "python",
   "nbconvert_exporter": "python",
   "pygments_lexer": "ipython3",
   "version": "3.10.6"
  }
 },
 "nbformat": 4,
 "nbformat_minor": 2
}
